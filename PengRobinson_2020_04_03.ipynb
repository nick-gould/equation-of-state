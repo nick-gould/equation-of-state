{
 "cells": [
  {
   "cell_type": "markdown",
   "metadata": {},
   "source": [
    "## General Peng-Robinson Cubic Equation of State Solver\n",
    "\n",
    "I originally started working on this problem because I wanted a better understanding of how classes worked in Python and wanted to use a problem I already understood to do so. With the benefit of hindsight I _probably_ wouldn't have done it this way, but it's functional so here we are.\n",
    "\n",
    "The [Peng-Robinson Equation of State](https://en.wikipedia.org/wiki/Equation_of_state#Peng%E2%80%93Robinson_equation_of_state) is a cubic equation of state for relating Temperature, Pressure, and vapor density similar to the ideal gas law typically presented in high school chemistry, or the van der Waals equation of state typically presented in freshman chemistry. It does a better job than either of those by introducting terms that give particles volume (ideal gas law assumes point particles), as well as allowing electrostatic interactions between particles.\n",
    "\n",
    "Outline of what's available here:\n",
    "* Setup of python classes for pure components and mixtures of components\n",
    "* Building out a [Full-Factorial](https://en.wikipedia.org/wiki/Factorial_experiment) experiment for determining mole fractions of components based on Temperature and Pressure\n",
    "* A simple neural network of the results using sklearn"
   ]
  },
  {
   "cell_type": "markdown",
   "metadata": {},
   "source": [
    "First, we need to import libraries:"
   ]
  },
  {
   "cell_type": "code",
   "execution_count": 1,
   "metadata": {},
   "outputs": [],
   "source": [
    "import os\n",
    "import numpy as np\n",
    "import pandas as pd\n",
    "import scipy.optimize\n",
    "from sklearn.neural_network import MLPRegressor\n",
    "import matplotlib.pyplot as plt\n",
    "import seaborn as sns\n",
    "from numpy.linalg import inv\n",
    "import copy"
   ]
  },
  {
   "cell_type": "markdown",
   "metadata": {},
   "source": [
    "Next I was unable to find a cubic solver that I liked, so I wrote my own. This function takes two derived terms from the Peng-Robinson EOS and finds the roots of the equation. Specifically it finds the highest of 3 roots if it exists, which is the factor we need for the vapor phase"
   ]
  },
  {
   "cell_type": "code",
   "execution_count": 2,
   "metadata": {},
   "outputs": [],
   "source": [
    "def PengRobinsonCubic(A,B,root=2):\n",
    "        coeff = [A/A,B-1,A-2*B-3*B**2,B**3+B**2-A*B]\n",
    "        a = coeff[0]\n",
    "        b = coeff[1]\n",
    "        c = coeff[2]\n",
    "        d = coeff[3]\n",
    "        \n",
    "        p = (3 * a * c - b ** 2) / (3 * a ** 2)\n",
    "        q = (2 * (b ** 3) - 9 * a * b * c + 27 * (a ** 2) * d) / (27 * a ** 3)\n",
    "        discriminant = 18 * a * b * c * d - 4 * (b ** 3) * d + (b ** 2) * (c ** 2) - 4 * a * (c ** 3) - 27 * (a ** 2) * (d ** 2)\n",
    "        \n",
    "        if discriminant > 0: #there are 3 real roots\n",
    "            return 2 * ((-p / 3) ** (1 / 2)) * np.cos((1 / 3) * np.arccos(((3 * q) / (2 * p)) * ((-3 / p) ** (1 / 2))) - 2 * np.pi * root / 3) - b / (3 * a)\n",
    "        elif p > 0:\n",
    "            return -2 * ((p / 3) ** (1 / 2)) * np.sinh((1 / 3) * np.arcsinh(((3 * q) / (2 * p)) * ((3 / p) ** (1 / 2)))) - b / (3 * a)\n",
    "        else:\n",
    "            return -2 * (np.abs(q) / q) * ((-p / 3) ** (1 / 2)) * np.cosh((1 / 3) * np.arccosh(((-3 * np.abs(q)) / (2 * p)) * ((-3 / p) ** (1 / 2)))) - b / (3 * a)\n"
   ]
  },
  {
   "cell_type": "markdown",
   "metadata": {},
   "source": [
    "Next we need to worry about all the math behind the Peng-Robinson EOS, which we can do using two classes. One for pure species components and the other for mixtures. The class for mixtures also needs a solver to get a solution for the mole fractions. This is accomplished with scipy.optimize.least_squares and some linear algebra involving mole fractions adding up to 1 and fugacities.\n",
    "\n",
    "The pure species class has optional terms for PSVR2.\n",
    "\n",
    "When the mixture model does not converge, numbers for np.nan will be used instead.\n",
    "\n",
    "For units:\n",
    "* Temperature is in Celcius\n",
    "* Pressure is in Barg\n",
    "* Volume is in L"
   ]
  },
  {
   "cell_type": "code",
   "execution_count": 3,
   "metadata": {},
   "outputs": [],
   "source": [
    "class component:\n",
    "    def __init__(self, Tc, Pc, omega, kappa1=0, kappa2=0, kappa3=0):\n",
    "        self.Tc = Tc\n",
    "        self.Pc = Pc\n",
    "        self.omega = omega\n",
    "        self.kappa1 = kappa1\n",
    "        self.kappa2 = kappa2\n",
    "        self.kappa3 = kappa3\n",
    "        \n",
    "    def setConditions(self,P,T):\n",
    "        P = np.array(P)\n",
    "        T = np.array(T)\n",
    "        Tc = self.Tc\n",
    "        Pc = self.Pc\n",
    "        omega = self.omega\n",
    "        kappa1 = self.kappa1\n",
    "        kappa2 = self.kappa2\n",
    "        kappa3 = self.kappa3\n",
    "        T = T + 273.15\n",
    "        P = P + 1.01325\n",
    "        R = 0.083144626 #(Bar*L)/(mol*K)\n",
    "        self.R = R\n",
    "        \n",
    "        Tr = T / Tc\n",
    "        self.Tr = Tr\n",
    "        \n",
    "        self.kappa0 = 0.378893+1.4897153*omega-.17131848*omega**2+0.0196554*omega**3\n",
    "        self.kappa = self.kappa0 + (kappa1+kappa2*(kappa3-Tr)*(1-np.sqrt(Tr)))        \n",
    "        self.alpha = (1+self.kappa*(1-np.sqrt(Tr)))**2\n",
    "        \n",
    "        self.a = 0.45724*(R**2)*(Tc**2)/Pc\n",
    "        self.b = 0.07780*R*Tc/Pc\n",
    "        \n",
    "        self.A = (self.a*self.alpha*P)/(self.R**2*T**2)\n",
    "        self.B = (self.b*P)/(self.R*T)\n",
    "        \n",
    "        self.Psat = np.exp(np.log(self.Pc)+np.log(10)*(1-1/Tr)*(7+7*self.omega)/3)\n",
    "        \n",
    "        self.Z = PengRobinsonCubic(self.A,self.B)\n",
    "        \n",
    "        self.Vn = self.Z*self.R*T/P\n",
    "\n",
    "        "
   ]
  },
  {
   "cell_type": "code",
   "execution_count": 4,
   "metadata": {},
   "outputs": [],
   "source": [
    "class mixture:\n",
    "    def __init__(self,component1,component2,k=0):\n",
    "        self.component1 = copy.deepcopy(component1)\n",
    "        self.component2 = copy.deepcopy(component2)\n",
    "        self.k = k\n",
    "        \n",
    "    def setMixtureConditions(self,P,T):\n",
    "        P = np.array(P)\n",
    "        T = np.array(T)\n",
    "        self.P = P + 1.01325\n",
    "        self.T = T + 273.15\n",
    "        self.component1.setConditions(P,T)\n",
    "        self.component2.setConditions(P,T)\n",
    "#         initialize the mole fractions using Raoult's law as a starting point\n",
    "        Raoult = np.array([[1,0,self.component1.Psat,0],[1,0,0,self.component2.Psat],[0,1,-P+10**-10,0],[0,1,0,-P+10**-10]])\n",
    "        SolveAgainst = np.array([1,1,0,0])\n",
    "        [self.x1, self.x2, self.y1, self.y2] = SolveAgainst.dot(inv(Raoult))\n",
    "        \n",
    "    def solveMoleFractions(self):\n",
    "        guess = [self.x1, self.y1]\n",
    "        MoleFractions = scipy.optimize.least_squares(self.F,guess)\n",
    "        self.convergance = MoleFractions.success\n",
    "        self.x1, self.y1 = MoleFractions.x\n",
    "        if not(0 <= (self.x1 or self.y1) <= 1):\n",
    "            self.x1, self.y1 = np.nan, np.nan\n",
    "            return [np.nan, np.nan]\n",
    "        elif np.round((self.x1+10**-10)/(self.y1+10**-10),4) == 1:\n",
    "            return [np.nan, np.nan]\n",
    "        else:\n",
    "            return MoleFractions.x\n",
    "       \n",
    "    def F(self,z):\n",
    "        x1 = z[0]\n",
    "        y1 = z[1]\n",
    "        x2 = 1 - x1\n",
    "        y2 = 1 - y1\n",
    "        P = self.P\n",
    "        T = self.T\n",
    "        R = 0.083144626 #(mL*psi)/(mol*K)\n",
    "        aa1 = self.component1.a*self.component1.alpha\n",
    "        aa2 = self.component2.a*self.component2.alpha\n",
    "        aL = self.component1.a*self.component1.alpha*x1**2+2*x1*x2*(1-self.k)*np.sqrt(self.component1.a*self.component2.a*self.component1.alpha*self.component2.alpha)+self.component2.a*self.component2.alpha*x2**2\n",
    "        aV = self.component1.a*self.component1.alpha*y1**2+2*y1*y2*(1-self.k)*np.sqrt(self.component1.a*self.component2.a*self.component1.alpha*self.component2.alpha)+self.component2.a*self.component2.alpha*y2**2\n",
    "        \n",
    "        bL = x1*self.component1.b+x2*self.component2.b\n",
    "        bV = y1*self.component1.b+y2*self.component2.b\n",
    "        \n",
    "        AL = (aL*P)/(R**2*T**2)\n",
    "        BL = (bL*P)/(R*T)\n",
    "        AV = (aV*P)/(R**2*T**2)\n",
    "        BV = (bV*P)/(R*T)\n",
    "        \n",
    "        ZV = PengRobinsonCubic(AV,BV)\n",
    "        ZL = PengRobinsonCubic(AL,BL)\n",
    "        \n",
    "        self.ZV, self.ZL = ZV, ZL\n",
    "\n",
    "        term1L = -np.log(ZL-BL)\n",
    "        term2L1 = (ZL-1)*self.component1.b/bL\n",
    "        term2L2 = (ZL-1)*self.component2.b/bL\n",
    "        term3L = (AL/(BL*np.sqrt(8)))*np.log((ZL+BL*(np.sqrt(2)+1))/(ZL-BL*(np.sqrt(2)-1)))\n",
    "        term3L1 = (2/aL)*((1-x1)*((1-self.k)*np.sqrt(self.component1.a*self.component1.alpha*self.component2.a*self.component2.alpha))+x1*self.component1.a*self.component1.alpha)-self.component1.b/bL\n",
    "        term3L2 = (2/aL)*((1-x2)*((1-self.k)*np.sqrt(self.component1.a*self.component1.alpha*self.component2.a*self.component2.alpha))+x2*self.component2.a*self.component2.alpha)-self.component2.b/bL\n",
    "        \n",
    "        fugL1 = np.exp(term1L + term2L1 - term3L*term3L1)\n",
    "        fugL2 = np.exp(term1L + term2L2 - term3L*term3L2)\n",
    "        \n",
    "        term1V = -np.log(ZV-BV)\n",
    "        term2V1 = (ZV-1)*self.component1.b/bV\n",
    "        term2V2 = (ZV-1)*self.component2.b/bV\n",
    "        term3V = (AV/(BV*np.sqrt(8)))*np.log((ZV+BV*(np.sqrt(2)+1))/(ZV-BV*(np.sqrt(2)-1)))\n",
    "        term3V1 = (2/aV)*((1-y1)*((1-self.k)*np.sqrt(self.component1.a*self.component1.alpha*self.component2.a*self.component2.alpha))+y1*self.component1.a*self.component1.alpha)-self.component1.b/bV\n",
    "        term3V2 = (2/aV)*((1-y2)*((1-self.k)*np.sqrt(self.component1.a*self.component1.alpha*self.component2.a*self.component2.alpha))+y2*self.component2.a*self.component2.alpha)-self.component2.b/bV\n",
    "        \n",
    "        fugV1 = np.exp(term1V + term2V1 - term3V*term3V1)\n",
    "        fugV2 = np.exp(term1V + term2V2 - term3V*term3V2)\n",
    "        \n",
    "        self.fugL1, self.fugL2, self.fugV1, self.fugV2 = fugL1, fugL2, fugV1, fugV2\n",
    "        \n",
    "        Left = np.array([[1,0,fugL1,0],[1,0,0,fugL2],[0,1,-fugV1,0],[0,1,0,-fugV2]])\n",
    "        Right = np.array([1,1,0,0])\n",
    "        Solution = np.array(Right.dot(inv(Left)))\n",
    "        \n",
    "        return (1000*(Solution[0]-x1))**2 + (1000*(Solution[2]-y1))**2\n",
    "        "
   ]
  },
  {
   "cell_type": "markdown",
   "metadata": {},
   "source": [
    "To actually use the Peng-Robinson EOS, we need to know 3 properties of each component:\n",
    "* Critical Temperature\n",
    "* Critical Pressure\n",
    "* [Acentric Factor](https://en.wikipedia.org/wiki/Acentric_factor) (which can be derived from the boiling point, commonly written with the greek letter omega)\n",
    "\n",
    "Critical properties can be obtained from [NIST](https://webbook.nist.gov/chemistry/) or other resources."
   ]
  },
  {
   "cell_type": "markdown",
   "metadata": {},
   "source": [
    "As an example, let's look at a binary system with carbon dioxide and ethanol at 5 bar and 40C"
   ]
  },
  {
   "cell_type": "code",
   "execution_count": 5,
   "metadata": {},
   "outputs": [
    {
     "name": "stdout",
     "output_type": "stream",
     "text": [
      "The liquid mole fraction of CO2 is 0.06402955460122187\n",
      "The vapor mole fraction of CO2 is 0.9678388087613046\n"
     ]
    },
    {
     "name": "stderr",
     "output_type": "stream",
     "text": [
      "C:\\Users\\NG\\Anaconda3\\lib\\site-packages\\ipykernel_launcher.py:69: RuntimeWarning: invalid value encountered in log\n",
      "C:\\Users\\NG\\Anaconda3\\lib\\site-packages\\ipykernel_launcher.py:72: RuntimeWarning: invalid value encountered in log\n"
     ]
    }
   ],
   "source": [
    "CO2 = component(Tc=304.2, Pc=73.80, omega=0.228, kappa1 = 0.04285)\n",
    "Ethanol = component(Tc=514, Pc=63, omega=.644)\n",
    "\n",
    "myMixture = mixture(CO2,Ethanol,k=0)\n",
    "myMixture.setMixtureConditions(P=5, T=40)\n",
    "[LiquidMoleFractionCO2, VaporMoleFractionCO2] = myMixture.solveMoleFractions()\n",
    "\n",
    "print(f'The liquid mole fraction of CO2 is {LiquidMoleFractionCO2}')\n",
    "print(f'The vapor mole fraction of CO2 is {VaporMoleFractionCO2}')\n"
   ]
  },
  {
   "cell_type": "markdown",
   "metadata": {},
   "source": [
    "So we've done the special case of one temperature and one pressure, let's work it out across a range. Let's look at temepratures between 0C and 100C, and pressures between 0 barg and 10 barg, and put those data in a pandas dataframe."
   ]
  },
  {
   "cell_type": "code",
   "execution_count": 6,
   "metadata": {},
   "outputs": [
    {
     "data": {
      "text/html": [
       "<div>\n",
       "<style scoped>\n",
       "    .dataframe tbody tr th:only-of-type {\n",
       "        vertical-align: middle;\n",
       "    }\n",
       "\n",
       "    .dataframe tbody tr th {\n",
       "        vertical-align: top;\n",
       "    }\n",
       "\n",
       "    .dataframe thead th {\n",
       "        text-align: right;\n",
       "    }\n",
       "</style>\n",
       "<table border=\"1\" class=\"dataframe\">\n",
       "  <thead>\n",
       "    <tr style=\"text-align: right;\">\n",
       "      <th></th>\n",
       "      <th>Temperature (C)</th>\n",
       "      <th>Pressure (Barg)</th>\n",
       "      <th>x1</th>\n",
       "      <th>y1</th>\n",
       "    </tr>\n",
       "  </thead>\n",
       "  <tbody>\n",
       "    <tr>\n",
       "      <th>0</th>\n",
       "      <td>0.0</td>\n",
       "      <td>0.0</td>\n",
       "      <td></td>\n",
       "      <td></td>\n",
       "    </tr>\n",
       "    <tr>\n",
       "      <th>1</th>\n",
       "      <td>0.0</td>\n",
       "      <td>1.0</td>\n",
       "      <td></td>\n",
       "      <td></td>\n",
       "    </tr>\n",
       "    <tr>\n",
       "      <th>2</th>\n",
       "      <td>0.0</td>\n",
       "      <td>2.0</td>\n",
       "      <td></td>\n",
       "      <td></td>\n",
       "    </tr>\n",
       "    <tr>\n",
       "      <th>3</th>\n",
       "      <td>0.0</td>\n",
       "      <td>3.0</td>\n",
       "      <td></td>\n",
       "      <td></td>\n",
       "    </tr>\n",
       "    <tr>\n",
       "      <th>4</th>\n",
       "      <td>0.0</td>\n",
       "      <td>4.0</td>\n",
       "      <td></td>\n",
       "      <td></td>\n",
       "    </tr>\n",
       "  </tbody>\n",
       "</table>\n",
       "</div>"
      ],
      "text/plain": [
       "   Temperature (C)  Pressure (Barg) x1 y1\n",
       "0              0.0              0.0      \n",
       "1              0.0              1.0      \n",
       "2              0.0              2.0      \n",
       "3              0.0              3.0      \n",
       "4              0.0              4.0      "
      ]
     },
     "execution_count": 6,
     "metadata": {},
     "output_type": "execute_result"
    }
   ],
   "source": [
    "numSteps = 11\n",
    "\n",
    "Tmin = 0\n",
    "Tmax = 100\n",
    "\n",
    "Pmin = 0\n",
    "Pmax = 10\n",
    "\n",
    "setup = [[Temp, Pressure]\n",
    "         for Temp in np.linspace(Tmin, Tmax, num=numSteps)\n",
    "         for Pressure in np.linspace(Pmin, Pmax, num=numSteps)]\n",
    "\n",
    "dfMoleFractionData = pd.DataFrame(data=setup, columns=['Temperature (C)','Pressure (Barg)'])\n",
    "dfMoleFractionData['x1'] = ''\n",
    "dfMoleFractionData['y1'] = ''\n",
    "\n",
    "dfMoleFractionData.head()"
   ]
  },
  {
   "cell_type": "markdown",
   "metadata": {},
   "source": [
    "It's at this point the way the classes are set up doesn't lend itself well to vectorizing the problem. If we could vectorize it, it would be very fast; but a fleeting attempt to modify it showed it to be challenging. For what I'm trying to accomplish here, time isn't critical and the time it would take to allow vectorization is several orders of magnitude higher than how long it takes the script to run.\n",
    "\n",
    "So we'll loop through each combination of Temperature and Pressure and return the mole fractions of CO2."
   ]
  },
  {
   "cell_type": "code",
   "execution_count": 7,
   "metadata": {},
   "outputs": [
    {
     "name": "stderr",
     "output_type": "stream",
     "text": [
      "C:\\Users\\NG\\Anaconda3\\lib\\site-packages\\pandas\\core\\indexing.py:189: SettingWithCopyWarning: \n",
      "A value is trying to be set on a copy of a slice from a DataFrame\n",
      "\n",
      "See the caveats in the documentation: http://pandas.pydata.org/pandas-docs/stable/indexing.html#indexing-view-versus-copy\n",
      "  self._setitem_with_indexer(indexer, value)\n",
      "C:\\Users\\NG\\Anaconda3\\lib\\site-packages\\ipykernel_launcher.py:69: RuntimeWarning: invalid value encountered in log\n",
      "C:\\Users\\NG\\Anaconda3\\lib\\site-packages\\ipykernel_launcher.py:72: RuntimeWarning: invalid value encountered in log\n"
     ]
    },
    {
     "name": "stdout",
     "output_type": "stream",
     "text": [
      "Wall time: 15.2 s\n"
     ]
    }
   ],
   "source": [
    "%%time\n",
    "for i in np.arange(len(dfMoleFractionData)):\n",
    "    myMixture.setMixtureConditions(dfMoleFractionData['Pressure (Barg)'].iloc[i],dfMoleFractionData['Temperature (C)'].iloc[i])\n",
    "    dfMoleFractionData['x1'].iloc[i], dfMoleFractionData['y1'].iloc[i] = myMixture.solveMoleFractions()\n",
    "    \n",
    "dfMoleFractionData['x2'] = 1 - dfMoleFractionData['x1']\n",
    "dfMoleFractionData['y2'] = 1 - dfMoleFractionData['y1']"
   ]
  },
  {
   "cell_type": "code",
   "execution_count": 8,
   "metadata": {},
   "outputs": [
    {
     "data": {
      "text/html": [
       "<div>\n",
       "<style scoped>\n",
       "    .dataframe tbody tr th:only-of-type {\n",
       "        vertical-align: middle;\n",
       "    }\n",
       "\n",
       "    .dataframe tbody tr th {\n",
       "        vertical-align: top;\n",
       "    }\n",
       "\n",
       "    .dataframe thead th {\n",
       "        text-align: right;\n",
       "    }\n",
       "</style>\n",
       "<table border=\"1\" class=\"dataframe\">\n",
       "  <thead>\n",
       "    <tr style=\"text-align: right;\">\n",
       "      <th></th>\n",
       "      <th>Temperature (C)</th>\n",
       "      <th>Pressure (Barg)</th>\n",
       "      <th>x1</th>\n",
       "      <th>y1</th>\n",
       "      <th>x2</th>\n",
       "      <th>y2</th>\n",
       "    </tr>\n",
       "  </thead>\n",
       "  <tbody>\n",
       "    <tr>\n",
       "      <th>111</th>\n",
       "      <td>100.0</td>\n",
       "      <td>1.0</td>\n",
       "      <td>NaN</td>\n",
       "      <td>NaN</td>\n",
       "      <td>NaN</td>\n",
       "      <td>NaN</td>\n",
       "    </tr>\n",
       "    <tr>\n",
       "      <th>112</th>\n",
       "      <td>100.0</td>\n",
       "      <td>2.0</td>\n",
       "      <td>NaN</td>\n",
       "      <td>NaN</td>\n",
       "      <td>NaN</td>\n",
       "      <td>NaN</td>\n",
       "    </tr>\n",
       "    <tr>\n",
       "      <th>113</th>\n",
       "      <td>100.0</td>\n",
       "      <td>3.0</td>\n",
       "      <td>NaN</td>\n",
       "      <td>NaN</td>\n",
       "      <td>NaN</td>\n",
       "      <td>NaN</td>\n",
       "    </tr>\n",
       "    <tr>\n",
       "      <th>114</th>\n",
       "      <td>100.0</td>\n",
       "      <td>4.0</td>\n",
       "      <td>NaN</td>\n",
       "      <td>NaN</td>\n",
       "      <td>NaN</td>\n",
       "      <td>NaN</td>\n",
       "    </tr>\n",
       "    <tr>\n",
       "      <th>115</th>\n",
       "      <td>100.0</td>\n",
       "      <td>5.0</td>\n",
       "      <td>NaN</td>\n",
       "      <td>NaN</td>\n",
       "      <td>NaN</td>\n",
       "      <td>NaN</td>\n",
       "    </tr>\n",
       "    <tr>\n",
       "      <th>116</th>\n",
       "      <td>100.0</td>\n",
       "      <td>6.0</td>\n",
       "      <td>0.0264851</td>\n",
       "      <td>0.655533</td>\n",
       "      <td>0.973515</td>\n",
       "      <td>0.344467</td>\n",
       "    </tr>\n",
       "    <tr>\n",
       "      <th>117</th>\n",
       "      <td>100.0</td>\n",
       "      <td>7.0</td>\n",
       "      <td>0.0320651</td>\n",
       "      <td>0.695766</td>\n",
       "      <td>0.967935</td>\n",
       "      <td>0.304234</td>\n",
       "    </tr>\n",
       "    <tr>\n",
       "      <th>118</th>\n",
       "      <td>100.0</td>\n",
       "      <td>8.0</td>\n",
       "      <td>0.0376319</td>\n",
       "      <td>0.727079</td>\n",
       "      <td>0.962368</td>\n",
       "      <td>0.272921</td>\n",
       "    </tr>\n",
       "    <tr>\n",
       "      <th>119</th>\n",
       "      <td>100.0</td>\n",
       "      <td>9.0</td>\n",
       "      <td>0.0431858</td>\n",
       "      <td>0.752134</td>\n",
       "      <td>0.956814</td>\n",
       "      <td>0.247866</td>\n",
       "    </tr>\n",
       "    <tr>\n",
       "      <th>120</th>\n",
       "      <td>100.0</td>\n",
       "      <td>10.0</td>\n",
       "      <td>0.0487268</td>\n",
       "      <td>0.772629</td>\n",
       "      <td>0.951273</td>\n",
       "      <td>0.227371</td>\n",
       "    </tr>\n",
       "  </tbody>\n",
       "</table>\n",
       "</div>"
      ],
      "text/plain": [
       "     Temperature (C)  Pressure (Barg)         x1        y1        x2        y2\n",
       "111            100.0              1.0        NaN       NaN       NaN       NaN\n",
       "112            100.0              2.0        NaN       NaN       NaN       NaN\n",
       "113            100.0              3.0        NaN       NaN       NaN       NaN\n",
       "114            100.0              4.0        NaN       NaN       NaN       NaN\n",
       "115            100.0              5.0        NaN       NaN       NaN       NaN\n",
       "116            100.0              6.0  0.0264851  0.655533  0.973515  0.344467\n",
       "117            100.0              7.0  0.0320651  0.695766  0.967935  0.304234\n",
       "118            100.0              8.0  0.0376319  0.727079  0.962368  0.272921\n",
       "119            100.0              9.0  0.0431858  0.752134  0.956814  0.247866\n",
       "120            100.0             10.0  0.0487268  0.772629  0.951273  0.227371"
      ]
     },
     "execution_count": 8,
     "metadata": {},
     "output_type": "execute_result"
    }
   ],
   "source": [
    "dfMoleFractionData.tail(10)"
   ]
  },
  {
   "cell_type": "markdown",
   "metadata": {},
   "source": [
    "It's also a good idea to plot the data to make sure it looks reasonable. We're also going to remove the numbers where Peng-Robinson didn't converge."
   ]
  },
  {
   "cell_type": "code",
   "execution_count": 15,
   "metadata": {
    "scrolled": false
   },
   "outputs": [
    {
     "data": {
      "image/png": "[encoded data removed]",
      "text/plain": [
       "<Figure size 432x432 with 1 Axes>"
      ]
     },
     "metadata": {
      "needs_background": "light"
     },
     "output_type": "display_data"
    },
    {
     "data": {
      "image/png": "[encoded data removed]",
      "text/plain": [
       "<Figure size 432x432 with 1 Axes>"
      ]
     },
     "metadata": {
      "needs_background": "light"
     },
     "output_type": "display_data"
    },
    {
     "data": {
      "image/png": "[encoded data removed]",
      "text/plain": [
       "<Figure size 432x432 with 1 Axes>"
      ]
     },
     "metadata": {
      "needs_background": "light"
     },
     "output_type": "display_data"
    },
    {
     "data": {
      "image/png": "[encoded data removed]",
      "text/plain": [
       "<Figure size 432x432 with 1 Axes>"
      ]
     },
     "metadata": {
      "needs_background": "light"
     },
     "output_type": "display_data"
    }
   ],
   "source": [
    "for column in dfMoleFractionData.columns:\n",
    "    dfMoleFractionData[column] = pd.to_numeric(dfMoleFractionData[column], errors ='coerce')\n",
    "\n",
    "PlotWidth = 6\n",
    "for Condition1, Condition2 in ['Pressure (Barg)', 'Temperature (C)'], ['Temperature (C)', 'Pressure (Barg)']:\n",
    "    for MoleFraction in ['x1', 'y1']:\n",
    "    \n",
    "        plt.figure(figsize=(PlotWidth,PlotWidth))\n",
    "        plt.ylim(0,1)\n",
    "        sns.lineplot(x=Condition1, y=MoleFraction, data=dfMoleFractionData, hue=Condition2)\n",
    "        plt.title(f'{MoleFraction} vs. {Condition1}')\n",
    "        plt.legend(bbox_to_anchor=(1,1), loc=\"upper left\")\n",
    "        plt.show()\n",
    "\n"
   ]
  },
  {
   "cell_type": "markdown",
   "metadata": {},
   "source": [
    "Which looks reasonable."
   ]
  },
  {
   "cell_type": "markdown",
   "metadata": {},
   "source": [
    "So that was a lot of work to get vapor and liquid mole fractions. We can bypass using Peng-Robinson by fitting a Neural Netork model to the output and just using the results of that. We're building a model on a model, which has problems; but could be computationally time-saving in a down stream application.\n",
    "\n",
    "First we need to scale the Temperature and Pressure to be on a scale of 0 to 1, otherwise the scikit-learn libraries won't work properly on them. There are built in functions to do that, but for the sake of demonstration I wrote my own."
   ]
  },
  {
   "cell_type": "code",
   "execution_count": 10,
   "metadata": {},
   "outputs": [],
   "source": [
    "def ScaleTheThing(unscaled):\n",
    "    scaled = (unscaled - unscaled.min()) / (unscaled.max() - unscaled.min())\n",
    "    return scaled\n",
    "\n",
    "def UnScaleTheThing(scaled, unscaled):\n",
    "    unscaled = scaled * (unscaled.max() - unscaled.min()) + unscaled.min()\n",
    "    return unscaled"
   ]
  },
  {
   "cell_type": "markdown",
   "metadata": {},
   "source": [
    "Now we can set up an MLPRegressor for both the liquid and the vapor. I'm not going to tune the hyperparemeters here and just leave them at the default values."
   ]
  },
  {
   "cell_type": "code",
   "execution_count": 11,
   "metadata": {},
   "outputs": [],
   "source": [
    "myLiquidNN = MLPRegressor(solver='lbfgs')\n",
    "myVaporNN = MLPRegressor(solver='lbfgs')"
   ]
  },
  {
   "cell_type": "code",
   "execution_count": 12,
   "metadata": {},
   "outputs": [
    {
     "name": "stdout",
     "output_type": "stream",
     "text": [
      "Liquid Score: 0.9996924476701617\n",
      "Vapor Score: 0.9989100570730125\n"
     ]
    }
   ],
   "source": [
    "dfMoleFractionData.dropna(inplace=True)\n",
    "X_unscaled = dfMoleFractionData[['Temperature (C)', 'Pressure (Barg)']]\n",
    "X = ScaleTheThing(X_unscaled)\n",
    "LiquidMoleFraction = ScaleTheThing(dfMoleFractionData['x1'])\n",
    "VaporMoleFraction = ScaleTheThing(dfMoleFractionData['y1'])\n",
    "\n",
    "myLiquidNN.fit(X=X, y=LiquidMoleFraction)\n",
    "myVaporNN.fit(X=X, y=VaporMoleFraction)\n",
    "\n",
    "print(f'Liquid Score: {myLiquidNN.score(X, LiquidMoleFraction)}')\n",
    "print(f'Vapor Score: {myVaporNN.score(X, VaporMoleFraction)}')"
   ]
  },
  {
   "cell_type": "markdown",
   "metadata": {},
   "source": [
    "Both give strong r^2 values, but once again it's wise to plot it."
   ]
  },
  {
   "cell_type": "code",
   "execution_count": 13,
   "metadata": {},
   "outputs": [
    {
     "data": {
      "image/png": "[encoded data removed]",
      "text/plain": [
       "<Figure size 432x432 with 1 Axes>"
      ]
     },
     "metadata": {
      "needs_background": "light"
     },
     "output_type": "display_data"
    },
    {
     "data": {
      "image/png": "[encoded data removed]",
      "text/plain": [
       "<Figure size 432x432 with 1 Axes>"
      ]
     },
     "metadata": {
      "needs_background": "light"
     },
     "output_type": "display_data"
    }
   ],
   "source": [
    "plt.figure(figsize=(PlotWidth, PlotWidth))\n",
    "plt.xlim(0,1)\n",
    "plt.ylim(0,1)\n",
    "plt.scatter(x=myLiquidNN.predict(X),y=LiquidMoleFraction)\n",
    "plt.xlabel('Predicted x1')\n",
    "plt.ylabel('Peng-Robinson x1')\n",
    "plt.title('Peng-Robinson vs. Predicted x1 values')\n",
    "plt.show()\n",
    "\n",
    "plt.figure(figsize=(PlotWidth, PlotWidth))\n",
    "plt.xlim(0,1)\n",
    "plt.ylim(0,1)\n",
    "plt.scatter(x=myVaporNN.predict(X),y=VaporMoleFraction)\n",
    "plt.xlabel('Predicted y1')\n",
    "plt.ylabel('Peng-Robinson y1')\n",
    "plt.title('Peng-Robinson vs. Predicted y1 values')\n",
    "plt.show()\n",
    "\n"
   ]
  },
  {
   "cell_type": "markdown",
   "metadata": {},
   "source": [
    "Finally let's put the predicted values back in our DataFrame"
   ]
  },
  {
   "cell_type": "code",
   "execution_count": 14,
   "metadata": {},
   "outputs": [
    {
     "data": {
      "text/html": [
       "<div>\n",
       "<style scoped>\n",
       "    .dataframe tbody tr th:only-of-type {\n",
       "        vertical-align: middle;\n",
       "    }\n",
       "\n",
       "    .dataframe tbody tr th {\n",
       "        vertical-align: top;\n",
       "    }\n",
       "\n",
       "    .dataframe thead th {\n",
       "        text-align: right;\n",
       "    }\n",
       "</style>\n",
       "<table border=\"1\" class=\"dataframe\">\n",
       "  <thead>\n",
       "    <tr style=\"text-align: right;\">\n",
       "      <th></th>\n",
       "      <th>Temperature (C)</th>\n",
       "      <th>Pressure (Barg)</th>\n",
       "      <th>x1</th>\n",
       "      <th>y1</th>\n",
       "      <th>x2</th>\n",
       "      <th>y2</th>\n",
       "      <th>Predicted x1</th>\n",
       "      <th>Predicted y1</th>\n",
       "    </tr>\n",
       "  </thead>\n",
       "  <tbody>\n",
       "    <tr>\n",
       "      <th>16</th>\n",
       "      <td>10.0</td>\n",
       "      <td>5.0</td>\n",
       "      <td>0.111839</td>\n",
       "      <td>0.994675</td>\n",
       "      <td>0.888161</td>\n",
       "      <td>0.005325</td>\n",
       "      <td>0.474844</td>\n",
       "      <td>0.997009</td>\n",
       "    </tr>\n",
       "    <tr>\n",
       "      <th>17</th>\n",
       "      <td>10.0</td>\n",
       "      <td>6.0</td>\n",
       "      <td>0.130713</td>\n",
       "      <td>0.995390</td>\n",
       "      <td>0.869287</td>\n",
       "      <td>0.004610</td>\n",
       "      <td>0.576207</td>\n",
       "      <td>0.997782</td>\n",
       "    </tr>\n",
       "    <tr>\n",
       "      <th>18</th>\n",
       "      <td>10.0</td>\n",
       "      <td>7.0</td>\n",
       "      <td>0.149660</td>\n",
       "      <td>0.995925</td>\n",
       "      <td>0.850340</td>\n",
       "      <td>0.004075</td>\n",
       "      <td>0.682564</td>\n",
       "      <td>0.998438</td>\n",
       "    </tr>\n",
       "    <tr>\n",
       "      <th>19</th>\n",
       "      <td>10.0</td>\n",
       "      <td>8.0</td>\n",
       "      <td>0.168688</td>\n",
       "      <td>0.996342</td>\n",
       "      <td>0.831312</td>\n",
       "      <td>0.003658</td>\n",
       "      <td>0.790976</td>\n",
       "      <td>1.002285</td>\n",
       "    </tr>\n",
       "    <tr>\n",
       "      <th>20</th>\n",
       "      <td>10.0</td>\n",
       "      <td>9.0</td>\n",
       "      <td>0.187807</td>\n",
       "      <td>0.996676</td>\n",
       "      <td>0.812193</td>\n",
       "      <td>0.003324</td>\n",
       "      <td>0.893190</td>\n",
       "      <td>1.009951</td>\n",
       "    </tr>\n",
       "    <tr>\n",
       "      <th>21</th>\n",
       "      <td>10.0</td>\n",
       "      <td>10.0</td>\n",
       "      <td>0.207029</td>\n",
       "      <td>0.996948</td>\n",
       "      <td>0.792971</td>\n",
       "      <td>0.003052</td>\n",
       "      <td>0.992390</td>\n",
       "      <td>1.017616</td>\n",
       "    </tr>\n",
       "    <tr>\n",
       "      <th>24</th>\n",
       "      <td>20.0</td>\n",
       "      <td>2.0</td>\n",
       "      <td>0.045347</td>\n",
       "      <td>0.980226</td>\n",
       "      <td>0.954653</td>\n",
       "      <td>0.019774</td>\n",
       "      <td>0.116246</td>\n",
       "      <td>0.945880</td>\n",
       "    </tr>\n",
       "    <tr>\n",
       "      <th>25</th>\n",
       "      <td>20.0</td>\n",
       "      <td>3.0</td>\n",
       "      <td>0.060692</td>\n",
       "      <td>0.984993</td>\n",
       "      <td>0.939308</td>\n",
       "      <td>0.015007</td>\n",
       "      <td>0.189271</td>\n",
       "      <td>0.958627</td>\n",
       "    </tr>\n",
       "    <tr>\n",
       "      <th>26</th>\n",
       "      <td>20.0</td>\n",
       "      <td>4.0</td>\n",
       "      <td>0.076043</td>\n",
       "      <td>0.987856</td>\n",
       "      <td>0.923957</td>\n",
       "      <td>0.012144</td>\n",
       "      <td>0.275097</td>\n",
       "      <td>0.968258</td>\n",
       "    </tr>\n",
       "    <tr>\n",
       "      <th>27</th>\n",
       "      <td>20.0</td>\n",
       "      <td>5.0</td>\n",
       "      <td>0.091403</td>\n",
       "      <td>0.989765</td>\n",
       "      <td>0.908597</td>\n",
       "      <td>0.010235</td>\n",
       "      <td>0.365018</td>\n",
       "      <td>0.977960</td>\n",
       "    </tr>\n",
       "  </tbody>\n",
       "</table>\n",
       "</div>"
      ],
      "text/plain": [
       "    Temperature (C)  Pressure (Barg)        x1        y1        x2        y2  \\\n",
       "16             10.0              5.0  0.111839  0.994675  0.888161  0.005325   \n",
       "17             10.0              6.0  0.130713  0.995390  0.869287  0.004610   \n",
       "18             10.0              7.0  0.149660  0.995925  0.850340  0.004075   \n",
       "19             10.0              8.0  0.168688  0.996342  0.831312  0.003658   \n",
       "20             10.0              9.0  0.187807  0.996676  0.812193  0.003324   \n",
       "21             10.0             10.0  0.207029  0.996948  0.792971  0.003052   \n",
       "24             20.0              2.0  0.045347  0.980226  0.954653  0.019774   \n",
       "25             20.0              3.0  0.060692  0.984993  0.939308  0.015007   \n",
       "26             20.0              4.0  0.076043  0.987856  0.923957  0.012144   \n",
       "27             20.0              5.0  0.091403  0.989765  0.908597  0.010235   \n",
       "\n",
       "    Predicted x1  Predicted y1  \n",
       "16      0.474844      0.997009  \n",
       "17      0.576207      0.997782  \n",
       "18      0.682564      0.998438  \n",
       "19      0.790976      1.002285  \n",
       "20      0.893190      1.009951  \n",
       "21      0.992390      1.017616  \n",
       "24      0.116246      0.945880  \n",
       "25      0.189271      0.958627  \n",
       "26      0.275097      0.968258  \n",
       "27      0.365018      0.977960  "
      ]
     },
     "metadata": {},
     "output_type": "display_data"
    }
   ],
   "source": [
    "dfMoleFractionData['Predicted x1'] = myLiquidNN.predict(X)\n",
    "dfMoleFractionData['Predicted y1'] = myVaporNN.predict(X)\n",
    "display(dfMoleFractionData.head(10))"
   ]
  },
  {
   "cell_type": "markdown",
   "metadata": {},
   "source": [
    "From here, one could iterate over the Tc, Pc, Acentric Factor for any 2-component system at a range of temperatures and pressures."
   ]
  },
  {
   "cell_type": "code",
   "execution_count": null,
   "metadata": {},
   "outputs": [],
   "source": []
  }
 ],
 "metadata": {
  "kernelspec": {
   "display_name": "Python 3",
   "language": "python",
   "name": "python3"
  },
  "language_info": {
   "codemirror_mode": {
    "name": "ipython",
    "version": 3
   },
   "file_extension": ".py",
   "mimetype": "text/x-python",
   "name": "python",
   "nbconvert_exporter": "python",
   "pygments_lexer": "ipython3",
   "version": "3.7.0"
  }
 },
 "nbformat": 4,
 "nbformat_minor": 2
}
